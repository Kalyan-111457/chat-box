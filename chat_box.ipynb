{
 "cells": [
  {
   "cell_type": "raw",
   "metadata": {
    "id": "oOHcrDHsp8ss"
   },
   "source": [
    "CREATE CHATBOX"
   ]
  },
  {
   "cell_type": "code",
   "execution_count": 10,
   "metadata": {},
   "outputs": [],
   "source": [
    "import numpy as np                #to perform mathematical operations we use numpy module"
   ]
  },
  {
   "cell_type": "markdown",
   "metadata": {
    "id": "AVyEC-5RsoNy"
   },
   "source": [
    "\n",
    "class chatbox:\n",
    "  def __init__(self):\n",
    "    pass\n",
    "  def train( self,user_input,k):\n",
    "    user_input=user_input.lower()                                                 # convert user input into lower case\n",
    "    for key in k:                                                                 #take the fisrt key element and transfer to key\n",
    "        if key in user_input and (\" \" + key + \" \") in (\" \" + user_input + \" \"):   #check whether it is matches to user_input and increment key\n",
    "            return k[key]                                                         #if matches print it\n",
    "\n",
    "\n",
    "    return k[\"default\"]                                                           #if not match print default"
   ]
  },
  {
   "cell_type": "code",
   "execution_count": 11,
   "metadata": {
    "id": "mwX8zOLYteJ3"
   },
   "outputs": [],
   "source": [
    "x=[\n",
    "    \"hi\",\n",
    "    \"how are you\",\n",
    "    \"whatis your name\"\n",
    "    'where are you from'\n",
    "]"
   ]
  },
  {
   "cell_type": "code",
   "execution_count": 12,
   "metadata": {
    "id": "dpHcQUX4zfvl"
   },
   "outputs": [],
   "source": [
    "k={\n",
    "    \"hi\":\"hello\",\n",
    "    \"kk\":\"ll\",\n",
    "    \"how are you\": \"i am fine\",\n",
    "    \"whats your name\":\"i am chat box\",\n",
    "    \"default\":\"i am sorry i dont understand could you repharse your question\"     #create your own input data\n",
    "}"
   ]
  },
  {
   "cell_type": "code",
   "execution_count": 13,
   "metadata": {
    "id": "LqI9XhlFxmZl"
   },
   "outputs": [],
   "source": [
    "y=[\n",
    "    \"hello\",\n",
    "    \"i am fine\",\n",
    "    \"my name is chat box\",\n",
    "    \" i am ai based chat box\"\n",
    "]"
   ]
  },
  {
   "cell_type": "code",
   "execution_count": 14,
   "metadata": {
    "id": "_uqqZ2wvyaxy"
   },
   "outputs": [],
   "source": [
    "#crete a object for class chatbox. and call each function"
   ]
  },
  {
   "cell_type": "code",
   "execution_count": 15,
   "metadata": {
    "id": "DlSMQPoSye0K"
   },
   "outputs": [],
   "source": [
    " c=chatbox()"
   ]
  },
  {
   "cell_type": "code",
   "execution_count": null,
   "metadata": {
    "colab": {
     "base_uri": "https://localhost:8080/"
    },
    "id": "3TdqTEZPt3tH",
    "outputId": "a18a0c5a-4c45-478d-ab9a-bdf01f2b73f0"
   },
   "outputs": [],
   "source": [
    "while True:\n",
    "  user_input=input(\"enter what do you want\")\n",
    "\n",
    "  #now create a object to train\n",
    "  h=c.train(user_input,k)\n",
    "  print(\"the output is\",h)"
   ]
  },
  {
   "cell_type": "code",
   "execution_count": null,
   "metadata": {},
   "outputs": [],
   "source": []
  },
  {
   "cell_type": "code",
   "execution_count": null,
   "metadata": {},
   "outputs": [],
   "source": []
  },
  {
   "cell_type": "code",
   "execution_count": null,
   "metadata": {},
   "outputs": [],
   "source": []
  }
 ],
 "metadata": {
  "colab": {
   "provenance": []
  },
  "kernelspec": {
   "display_name": "Python 3 (ipykernel)",
   "language": "python",
   "name": "python3"
  },
  "language_info": {
   "codemirror_mode": {
    "name": "ipython",
    "version": 3
   },
   "file_extension": ".py",
   "mimetype": "text/x-python",
   "name": "python",
   "nbconvert_exporter": "python",
   "pygments_lexer": "ipython3",
   "version": "3.9.13"
  }
 },
 "nbformat": 4,
 "nbformat_minor": 1
}
